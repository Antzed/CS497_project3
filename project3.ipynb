{
 "cells": [
  {
   "cell_type": "markdown",
   "metadata": {
    "id": "CRIkKifMXV5f"
   },
   "source": [
    "# Project 3: Activity Detection with Machine Learning\n",
    "\n",
    "In this project, we will use a database containing activity data collected in Project 2.\n",
    "The main steps include:\n",
    " - **Loading** the database into a Pandas dataframe\n",
    " - **Extracting features** for machine learning\n",
    " - **Training** different models to find the best activity detection model\n",
    "\n",
    "Your assignment is to complete the analysis and submit the required files."
   ]
  },
  {
   "cell_type": "code",
   "execution_count": 5,
   "metadata": {
    "colab": {
     "base_uri": "https://localhost:8080/"
    },
    "executionInfo": {
     "elapsed": 1339,
     "status": "ok",
     "timestamp": 1715275355051,
     "user": {
      "displayName": "Blaine Rothrock",
      "userId": "10464371108573119789"
     },
     "user_tz": 240
    },
    "id": "nV8cQztYXWyK",
    "outputId": "42f8da83-70e2-4ac4-c920-e4d20695eec3"
   },
   "outputs": [],
   "source": [
    "# Mount Google Drive (Optional - for Colab users)\n",
    "# from google.colab import drive\n",
    "# drive.mount('/content/drive')\n",
    "\n",
    "# Define the working directory (update this path if needed)\n",
    "data_path = './'"
   ]
  },
  {
   "cell_type": "markdown",
   "metadata": {
    "id": "LBMrI42LXV5i"
   },
   "source": [
    "## Submission Requirements\n",
    "Your final submission should be a **single compressed file** containing:\n",
    " - **Completed Jupyter Notebook** (this file, with all outputs and analysis)\n",
    " - **PDF Report** with the required write-ups and explanations\n",
    " - **C Header File (`.h`)** containing the best-trained model ported to C"
   ]
  },
  {
   "cell_type": "markdown",
   "metadata": {
    "id": "Y7ZjyxDfXV5i"
   },
   "source": [
    "## Setp 1. Load the Activity Database\n",
    "Ensure that the dataset file is located in the correct directory, or update the file path accordingly."
   ]
  },
  {
   "cell_type": "code",
   "execution_count": 6,
   "metadata": {
    "colab": {
     "base_uri": "https://localhost:8080/",
     "height": 363
    },
    "executionInfo": {
     "elapsed": 3878,
     "status": "ok",
     "timestamp": 1715275409925,
     "user": {
      "displayName": "Blaine Rothrock",
      "userId": "10464371108573119789"
     },
     "user_tz": 240
    },
    "id": "FGhnJqxPXV5i",
    "outputId": "c5641963-a04d-4e86-ee17-92b32913bb27"
   },
   "outputs": [
    {
     "name": "stdout",
     "output_type": "stream",
     "text": [
      "<class 'pandas.core.frame.DataFrame'>\n",
      "RangeIndex: 1768519 entries, 0 to 1768518\n",
      "Data columns (total 8 columns):\n",
      " #   Column       Dtype  \n",
      "---  ------       -----  \n",
      " 0   participant  object \n",
      " 1   accel_x      float64\n",
      " 2   accel_y      float64\n",
      " 3   accel_z      float64\n",
      " 4   gyr_x        float64\n",
      " 5   gyr_y        float64\n",
      " 6   gyr_z        float64\n",
      " 7   label        object \n",
      "dtypes: float64(6), object(2)\n",
      "memory usage: 107.9+ MB\n"
     ]
    },
    {
     "data": {
      "text/html": [
       "<div>\n",
       "<style scoped>\n",
       "    .dataframe tbody tr th:only-of-type {\n",
       "        vertical-align: middle;\n",
       "    }\n",
       "\n",
       "    .dataframe tbody tr th {\n",
       "        vertical-align: top;\n",
       "    }\n",
       "\n",
       "    .dataframe thead th {\n",
       "        text-align: right;\n",
       "    }\n",
       "</style>\n",
       "<table border=\"1\" class=\"dataframe\">\n",
       "  <thead>\n",
       "    <tr style=\"text-align: right;\">\n",
       "      <th></th>\n",
       "      <th>participant</th>\n",
       "      <th>accel_x</th>\n",
       "      <th>accel_y</th>\n",
       "      <th>accel_z</th>\n",
       "      <th>gyr_x</th>\n",
       "      <th>gyr_y</th>\n",
       "      <th>gyr_z</th>\n",
       "      <th>label</th>\n",
       "    </tr>\n",
       "  </thead>\n",
       "  <tbody>\n",
       "    <tr>\n",
       "      <th>0</th>\n",
       "      <td>P1</td>\n",
       "      <td>-0.10</td>\n",
       "      <td>-0.95</td>\n",
       "      <td>0.35</td>\n",
       "      <td>1.68</td>\n",
       "      <td>-3.08</td>\n",
       "      <td>-1.54</td>\n",
       "      <td>sitting</td>\n",
       "    </tr>\n",
       "    <tr>\n",
       "      <th>1</th>\n",
       "      <td>P1</td>\n",
       "      <td>-0.10</td>\n",
       "      <td>-0.94</td>\n",
       "      <td>0.36</td>\n",
       "      <td>2.03</td>\n",
       "      <td>-3.15</td>\n",
       "      <td>-1.47</td>\n",
       "      <td>sitting</td>\n",
       "    </tr>\n",
       "    <tr>\n",
       "      <th>2</th>\n",
       "      <td>P1</td>\n",
       "      <td>-0.10</td>\n",
       "      <td>-0.94</td>\n",
       "      <td>0.36</td>\n",
       "      <td>2.52</td>\n",
       "      <td>-3.22</td>\n",
       "      <td>-1.54</td>\n",
       "      <td>sitting</td>\n",
       "    </tr>\n",
       "    <tr>\n",
       "      <th>3</th>\n",
       "      <td>P1</td>\n",
       "      <td>-0.10</td>\n",
       "      <td>-0.94</td>\n",
       "      <td>0.36</td>\n",
       "      <td>2.52</td>\n",
       "      <td>-3.15</td>\n",
       "      <td>-1.61</td>\n",
       "      <td>sitting</td>\n",
       "    </tr>\n",
       "    <tr>\n",
       "      <th>4</th>\n",
       "      <td>P1</td>\n",
       "      <td>-0.10</td>\n",
       "      <td>-0.94</td>\n",
       "      <td>0.36</td>\n",
       "      <td>2.73</td>\n",
       "      <td>-3.01</td>\n",
       "      <td>-1.61</td>\n",
       "      <td>sitting</td>\n",
       "    </tr>\n",
       "    <tr>\n",
       "      <th>5</th>\n",
       "      <td>P1</td>\n",
       "      <td>-0.09</td>\n",
       "      <td>-0.94</td>\n",
       "      <td>0.37</td>\n",
       "      <td>2.87</td>\n",
       "      <td>-2.80</td>\n",
       "      <td>-1.82</td>\n",
       "      <td>sitting</td>\n",
       "    </tr>\n",
       "    <tr>\n",
       "      <th>6</th>\n",
       "      <td>P1</td>\n",
       "      <td>-0.09</td>\n",
       "      <td>-0.94</td>\n",
       "      <td>0.37</td>\n",
       "      <td>2.73</td>\n",
       "      <td>-2.45</td>\n",
       "      <td>-1.68</td>\n",
       "      <td>sitting</td>\n",
       "    </tr>\n",
       "    <tr>\n",
       "      <th>7</th>\n",
       "      <td>P1</td>\n",
       "      <td>-0.09</td>\n",
       "      <td>-0.94</td>\n",
       "      <td>0.37</td>\n",
       "      <td>2.80</td>\n",
       "      <td>-2.31</td>\n",
       "      <td>-1.75</td>\n",
       "      <td>sitting</td>\n",
       "    </tr>\n",
       "    <tr>\n",
       "      <th>8</th>\n",
       "      <td>P1</td>\n",
       "      <td>-0.08</td>\n",
       "      <td>-0.94</td>\n",
       "      <td>0.37</td>\n",
       "      <td>2.38</td>\n",
       "      <td>-2.17</td>\n",
       "      <td>-1.82</td>\n",
       "      <td>sitting</td>\n",
       "    </tr>\n",
       "    <tr>\n",
       "      <th>9</th>\n",
       "      <td>P1</td>\n",
       "      <td>-0.08</td>\n",
       "      <td>-0.94</td>\n",
       "      <td>0.37</td>\n",
       "      <td>1.82</td>\n",
       "      <td>-2.10</td>\n",
       "      <td>-1.75</td>\n",
       "      <td>sitting</td>\n",
       "    </tr>\n",
       "  </tbody>\n",
       "</table>\n",
       "</div>"
      ],
      "text/plain": [
       "  participant  accel_x  accel_y  accel_z  gyr_x  gyr_y  gyr_z    label\n",
       "0          P1    -0.10    -0.95     0.35   1.68  -3.08  -1.54  sitting\n",
       "1          P1    -0.10    -0.94     0.36   2.03  -3.15  -1.47  sitting\n",
       "2          P1    -0.10    -0.94     0.36   2.52  -3.22  -1.54  sitting\n",
       "3          P1    -0.10    -0.94     0.36   2.52  -3.15  -1.61  sitting\n",
       "4          P1    -0.10    -0.94     0.36   2.73  -3.01  -1.61  sitting\n",
       "5          P1    -0.09    -0.94     0.37   2.87  -2.80  -1.82  sitting\n",
       "6          P1    -0.09    -0.94     0.37   2.73  -2.45  -1.68  sitting\n",
       "7          P1    -0.09    -0.94     0.37   2.80  -2.31  -1.75  sitting\n",
       "8          P1    -0.08    -0.94     0.37   2.38  -2.17  -1.82  sitting\n",
       "9          P1    -0.08    -0.94     0.37   1.82  -2.10  -1.75  sitting"
      ]
     },
     "execution_count": 6,
     "metadata": {},
     "output_type": "execute_result"
    }
   ],
   "source": [
    "import pandas as pd\n",
    "import os\n",
    "\n",
    "# Define the path to the dataset (update if necessary)\n",
    "db_path = os.path.join(data_path, 'dataset_spring_2024.csv') \n",
    "\n",
    "# Load the dataset into a Pandas dataframe\n",
    "df = pd.read_csv(db_path, dtype={'label': 'str', 'participant': 'str'})\n",
    "\n",
    "# Remove unnecessary columns (e.g., timestamp if not needed)\n",
    "df = df.drop(columns=['time_ms'])\n",
    "\n",
    "# Display basic dataset information\n",
    "df.info()\n",
    "\n",
    "# Display the first 10 rows to inspect the dataset\n",
    "df.head(10)"
   ]
  },
  {
   "cell_type": "code",
   "execution_count": 7,
   "metadata": {
    "colab": {
     "base_uri": "https://localhost:8080/",
     "height": 242
    },
    "executionInfo": {
     "elapsed": 3957,
     "status": "ok",
     "timestamp": 1715275437416,
     "user": {
      "displayName": "Blaine Rothrock",
      "userId": "10464371108573119789"
     },
     "user_tz": 240
    },
    "id": "rtmwb_WqXV5k",
    "outputId": "d299c971-9812-4551-f145-052cb5236260"
   },
   "outputs": [
    {
     "name": "stdout",
     "output_type": "stream",
     "text": [
      "['sitting' 'standing' 'walking' 'ascending stairs' 'descending stairs'\n",
      " 'jumping' 'running' 'dancing' 'rest']\n"
     ]
    },
    {
     "data": {
      "text/html": [
       "<div>\n",
       "<style scoped>\n",
       "    .dataframe tbody tr th:only-of-type {\n",
       "        vertical-align: middle;\n",
       "    }\n",
       "\n",
       "    .dataframe tbody tr th {\n",
       "        vertical-align: top;\n",
       "    }\n",
       "\n",
       "    .dataframe thead th {\n",
       "        text-align: right;\n",
       "    }\n",
       "</style>\n",
       "<table border=\"1\" class=\"dataframe\">\n",
       "  <thead>\n",
       "    <tr style=\"text-align: right;\">\n",
       "      <th></th>\n",
       "      <th>participant</th>\n",
       "      <th>accel_x</th>\n",
       "      <th>accel_y</th>\n",
       "      <th>accel_z</th>\n",
       "      <th>gyr_x</th>\n",
       "      <th>gyr_y</th>\n",
       "      <th>gyr_z</th>\n",
       "      <th>label</th>\n",
       "    </tr>\n",
       "  </thead>\n",
       "  <tbody>\n",
       "    <tr>\n",
       "      <th>0</th>\n",
       "      <td>P119</td>\n",
       "      <td>-0.36</td>\n",
       "      <td>-0.94</td>\n",
       "      <td>-0.01</td>\n",
       "      <td>1.33</td>\n",
       "      <td>-1.75</td>\n",
       "      <td>0.35</td>\n",
       "      <td>sitting</td>\n",
       "    </tr>\n",
       "    <tr>\n",
       "      <th>1</th>\n",
       "      <td>P119</td>\n",
       "      <td>-0.36</td>\n",
       "      <td>-0.94</td>\n",
       "      <td>-0.01</td>\n",
       "      <td>1.47</td>\n",
       "      <td>-1.68</td>\n",
       "      <td>0.56</td>\n",
       "      <td>sitting</td>\n",
       "    </tr>\n",
       "    <tr>\n",
       "      <th>2</th>\n",
       "      <td>P119</td>\n",
       "      <td>-0.36</td>\n",
       "      <td>-0.94</td>\n",
       "      <td>-0.01</td>\n",
       "      <td>1.26</td>\n",
       "      <td>-1.89</td>\n",
       "      <td>0.14</td>\n",
       "      <td>sitting</td>\n",
       "    </tr>\n",
       "    <tr>\n",
       "      <th>3</th>\n",
       "      <td>P119</td>\n",
       "      <td>-0.36</td>\n",
       "      <td>-0.94</td>\n",
       "      <td>-0.01</td>\n",
       "      <td>1.05</td>\n",
       "      <td>-1.75</td>\n",
       "      <td>0.63</td>\n",
       "      <td>sitting</td>\n",
       "    </tr>\n",
       "    <tr>\n",
       "      <th>4</th>\n",
       "      <td>P119</td>\n",
       "      <td>-0.36</td>\n",
       "      <td>-0.94</td>\n",
       "      <td>-0.01</td>\n",
       "      <td>1.26</td>\n",
       "      <td>-1.89</td>\n",
       "      <td>0.42</td>\n",
       "      <td>sitting</td>\n",
       "    </tr>\n",
       "  </tbody>\n",
       "</table>\n",
       "</div>"
      ],
      "text/plain": [
       "  participant  accel_x  accel_y  accel_z  gyr_x  gyr_y  gyr_z    label\n",
       "0        P119    -0.36    -0.94    -0.01   1.33  -1.75   0.35  sitting\n",
       "1        P119    -0.36    -0.94    -0.01   1.47  -1.68   0.56  sitting\n",
       "2        P119    -0.36    -0.94    -0.01   1.26  -1.89   0.14  sitting\n",
       "3        P119    -0.36    -0.94    -0.01   1.05  -1.75   0.63  sitting\n",
       "4        P119    -0.36    -0.94    -0.01   1.26  -1.89   0.42  sitting"
      ]
     },
     "execution_count": 7,
     "metadata": {},
     "output_type": "execute_result"
    }
   ],
   "source": [
    "# include the dataset from 2023\n",
    "db_path = os.path.join(data_path, 'dataset_winter_2023.csv')\n",
    "df_2023 = pd.read_csv(db_path)\n",
    "\n",
    "# clean the data to match this year's dataset\n",
    "df_2023['label'] = df_2023['label'].str.lower().str.strip()\n",
    "df_2023['label'] = df_2023['label'].str.replace('sitting/working with a computer', 'sitting')\n",
    "df_2023['label'] = df_2023['label'].str.replace('sitting/working\\xa0with a computer', 'sitting')\n",
    "print(df_2023.label.unique())\n",
    "\n",
    "df_2023['participant'] = df_2023['participant'].astype(str)\n",
    "\n",
    "# add 100 each participant id to separate\n",
    "def _reformat_participant_id(id_str):\n",
    "    id = int(id_str.lower().split('p')[-1])\n",
    "    id += 100\n",
    "    return f'P{id}'\n",
    "df_2023['participant'] = df_2023['participant'].apply(_reformat_participant_id)\n",
    "\n",
    "df_2023 = df_2023.drop(columns=['time'])\n",
    "\n",
    "df_2023.head()"
   ]
  },
  {
   "cell_type": "code",
   "execution_count": 8,
   "metadata": {
    "colab": {
     "base_uri": "https://localhost:8080/",
     "height": 206
    },
    "executionInfo": {
     "elapsed": 406,
     "status": "ok",
     "timestamp": 1715275443914,
     "user": {
      "displayName": "Blaine Rothrock",
      "userId": "10464371108573119789"
     },
     "user_tz": 240
    },
    "id": "rUN3MaNGXV5k",
    "outputId": "c5f489f1-df87-48f0-d69f-7476f8cdbc22"
   },
   "outputs": [
    {
     "data": {
      "text/html": [
       "<div>\n",
       "<style scoped>\n",
       "    .dataframe tbody tr th:only-of-type {\n",
       "        vertical-align: middle;\n",
       "    }\n",
       "\n",
       "    .dataframe tbody tr th {\n",
       "        vertical-align: top;\n",
       "    }\n",
       "\n",
       "    .dataframe thead th {\n",
       "        text-align: right;\n",
       "    }\n",
       "</style>\n",
       "<table border=\"1\" class=\"dataframe\">\n",
       "  <thead>\n",
       "    <tr style=\"text-align: right;\">\n",
       "      <th></th>\n",
       "      <th>participant</th>\n",
       "      <th>accel_x</th>\n",
       "      <th>accel_y</th>\n",
       "      <th>accel_z</th>\n",
       "      <th>gyr_x</th>\n",
       "      <th>gyr_y</th>\n",
       "      <th>gyr_z</th>\n",
       "      <th>label</th>\n",
       "    </tr>\n",
       "  </thead>\n",
       "  <tbody>\n",
       "    <tr>\n",
       "      <th>0</th>\n",
       "      <td>P1</td>\n",
       "      <td>-0.1</td>\n",
       "      <td>-0.95</td>\n",
       "      <td>0.35</td>\n",
       "      <td>1.68</td>\n",
       "      <td>-3.08</td>\n",
       "      <td>-1.54</td>\n",
       "      <td>sitting</td>\n",
       "    </tr>\n",
       "    <tr>\n",
       "      <th>1</th>\n",
       "      <td>P1</td>\n",
       "      <td>-0.1</td>\n",
       "      <td>-0.94</td>\n",
       "      <td>0.36</td>\n",
       "      <td>2.03</td>\n",
       "      <td>-3.15</td>\n",
       "      <td>-1.47</td>\n",
       "      <td>sitting</td>\n",
       "    </tr>\n",
       "    <tr>\n",
       "      <th>2</th>\n",
       "      <td>P1</td>\n",
       "      <td>-0.1</td>\n",
       "      <td>-0.94</td>\n",
       "      <td>0.36</td>\n",
       "      <td>2.52</td>\n",
       "      <td>-3.22</td>\n",
       "      <td>-1.54</td>\n",
       "      <td>sitting</td>\n",
       "    </tr>\n",
       "    <tr>\n",
       "      <th>3</th>\n",
       "      <td>P1</td>\n",
       "      <td>-0.1</td>\n",
       "      <td>-0.94</td>\n",
       "      <td>0.36</td>\n",
       "      <td>2.52</td>\n",
       "      <td>-3.15</td>\n",
       "      <td>-1.61</td>\n",
       "      <td>sitting</td>\n",
       "    </tr>\n",
       "    <tr>\n",
       "      <th>4</th>\n",
       "      <td>P1</td>\n",
       "      <td>-0.1</td>\n",
       "      <td>-0.94</td>\n",
       "      <td>0.36</td>\n",
       "      <td>2.73</td>\n",
       "      <td>-3.01</td>\n",
       "      <td>-1.61</td>\n",
       "      <td>sitting</td>\n",
       "    </tr>\n",
       "  </tbody>\n",
       "</table>\n",
       "</div>"
      ],
      "text/plain": [
       "  participant  accel_x  accel_y  accel_z  gyr_x  gyr_y  gyr_z    label\n",
       "0          P1     -0.1    -0.95     0.35   1.68  -3.08  -1.54  sitting\n",
       "1          P1     -0.1    -0.94     0.36   2.03  -3.15  -1.47  sitting\n",
       "2          P1     -0.1    -0.94     0.36   2.52  -3.22  -1.54  sitting\n",
       "3          P1     -0.1    -0.94     0.36   2.52  -3.15  -1.61  sitting\n",
       "4          P1     -0.1    -0.94     0.36   2.73  -3.01  -1.61  sitting"
      ]
     },
     "execution_count": 8,
     "metadata": {},
     "output_type": "execute_result"
    }
   ],
   "source": [
    "# merge the database\n",
    "df = pd.concat([df, df_2023], ignore_index=True)\n",
    "\n",
    "# clean up\n",
    "del df_2023\n",
    "\n",
    "df.head()"
   ]
  },
  {
   "cell_type": "markdown",
   "metadata": {
    "id": "fofpBup8XV5k"
   },
   "source": [
    "## Setp 2. Extract Features\n",
    "\n",
    "Here we will select a window size and compute aggregations on the dataset. The following line of code will create a new dataframe which will compute aggregate statistics across each participant, label, and window size.\n",
    "\n",
    "**Note**: this will take some time to compute, especially on a Google Colab instance. The more complex the aggregation calculations, the longer it will take.\n",
    "\n",
    "\n",
    "### <span style=\"color:red\">Task 2.1</span>\n",
    "<span style=\"color:red\">Add at least 4 additional features to the feature set. We have provided `mean` and `std` (standard deviation)</span>"
   ]
  },
  {
   "cell_type": "code",
   "execution_count": 9,
   "metadata": {
    "colab": {
     "base_uri": "https://localhost:8080/",
     "height": 313
    },
    "executionInfo": {
     "elapsed": 26247,
     "status": "ok",
     "timestamp": 1715275473290,
     "user": {
      "displayName": "Blaine Rothrock",
      "userId": "10464371108573119789"
     },
     "user_tz": 240
    },
    "id": "YN5jm0a7XV5k",
    "outputId": "200ca4bf-15c4-4f1e-8958-624ba4e7fa7c"
   },
   "outputs": [
    {
     "data": {
      "text/html": [
       "<div>\n",
       "<style scoped>\n",
       "    .dataframe tbody tr th:only-of-type {\n",
       "        vertical-align: middle;\n",
       "    }\n",
       "\n",
       "    .dataframe tbody tr th {\n",
       "        vertical-align: top;\n",
       "    }\n",
       "\n",
       "    .dataframe thead th {\n",
       "        text-align: right;\n",
       "    }\n",
       "</style>\n",
       "<table border=\"1\" class=\"dataframe\">\n",
       "  <thead>\n",
       "    <tr style=\"text-align: right;\">\n",
       "      <th></th>\n",
       "      <th>participant</th>\n",
       "      <th>label</th>\n",
       "      <th>accel_x_mean</th>\n",
       "      <th>accel_x_std</th>\n",
       "      <th>accel_x_min</th>\n",
       "      <th>accel_x_max</th>\n",
       "      <th>accel_x_median</th>\n",
       "      <th>accel_x_skew</th>\n",
       "      <th>accel_y_mean</th>\n",
       "      <th>accel_y_std</th>\n",
       "      <th>...</th>\n",
       "      <th>gyr_y_min</th>\n",
       "      <th>gyr_y_max</th>\n",
       "      <th>gyr_y_median</th>\n",
       "      <th>gyr_y_skew</th>\n",
       "      <th>gyr_z_mean</th>\n",
       "      <th>gyr_z_std</th>\n",
       "      <th>gyr_z_min</th>\n",
       "      <th>gyr_z_max</th>\n",
       "      <th>gyr_z_median</th>\n",
       "      <th>gyr_z_skew</th>\n",
       "    </tr>\n",
       "  </thead>\n",
       "  <tbody>\n",
       "    <tr>\n",
       "      <th>99</th>\n",
       "      <td>P1</td>\n",
       "      <td>ascending stairs</td>\n",
       "      <td>-0.8253</td>\n",
       "      <td>0.177869</td>\n",
       "      <td>-1.27</td>\n",
       "      <td>-0.53</td>\n",
       "      <td>-0.775</td>\n",
       "      <td>-0.718442</td>\n",
       "      <td>-0.5937</td>\n",
       "      <td>0.283623</td>\n",
       "      <td>...</td>\n",
       "      <td>-159.6</td>\n",
       "      <td>69.79</td>\n",
       "      <td>-43.715</td>\n",
       "      <td>-0.399055</td>\n",
       "      <td>-1.7871</td>\n",
       "      <td>40.846795</td>\n",
       "      <td>-102.06</td>\n",
       "      <td>53.48</td>\n",
       "      <td>16.59</td>\n",
       "      <td>-0.688015</td>\n",
       "    </tr>\n",
       "    <tr>\n",
       "      <th>100</th>\n",
       "      <td>P1</td>\n",
       "      <td>ascending stairs</td>\n",
       "      <td>-0.8254</td>\n",
       "      <td>0.177846</td>\n",
       "      <td>-1.27</td>\n",
       "      <td>-0.53</td>\n",
       "      <td>-0.780</td>\n",
       "      <td>-0.717088</td>\n",
       "      <td>-0.5904</td>\n",
       "      <td>0.282056</td>\n",
       "      <td>...</td>\n",
       "      <td>-159.6</td>\n",
       "      <td>69.79</td>\n",
       "      <td>-44.275</td>\n",
       "      <td>-0.369833</td>\n",
       "      <td>-1.2355</td>\n",
       "      <td>40.650189</td>\n",
       "      <td>-102.06</td>\n",
       "      <td>53.48</td>\n",
       "      <td>16.59</td>\n",
       "      <td>-0.728099</td>\n",
       "    </tr>\n",
       "    <tr>\n",
       "      <th>101</th>\n",
       "      <td>P1</td>\n",
       "      <td>ascending stairs</td>\n",
       "      <td>-0.8251</td>\n",
       "      <td>0.177880</td>\n",
       "      <td>-1.27</td>\n",
       "      <td>-0.53</td>\n",
       "      <td>-0.780</td>\n",
       "      <td>-0.721753</td>\n",
       "      <td>-0.5888</td>\n",
       "      <td>0.281939</td>\n",
       "      <td>...</td>\n",
       "      <td>-159.6</td>\n",
       "      <td>69.79</td>\n",
       "      <td>-44.695</td>\n",
       "      <td>-0.356676</td>\n",
       "      <td>-0.6027</td>\n",
       "      <td>40.319882</td>\n",
       "      <td>-102.06</td>\n",
       "      <td>53.48</td>\n",
       "      <td>16.59</td>\n",
       "      <td>-0.771554</td>\n",
       "    </tr>\n",
       "    <tr>\n",
       "      <th>102</th>\n",
       "      <td>P1</td>\n",
       "      <td>ascending stairs</td>\n",
       "      <td>-0.8249</td>\n",
       "      <td>0.177920</td>\n",
       "      <td>-1.27</td>\n",
       "      <td>-0.53</td>\n",
       "      <td>-0.775</td>\n",
       "      <td>-0.724572</td>\n",
       "      <td>-0.5875</td>\n",
       "      <td>0.282047</td>\n",
       "      <td>...</td>\n",
       "      <td>-159.6</td>\n",
       "      <td>69.79</td>\n",
       "      <td>-44.695</td>\n",
       "      <td>-0.363526</td>\n",
       "      <td>0.1239</td>\n",
       "      <td>39.762283</td>\n",
       "      <td>-102.06</td>\n",
       "      <td>53.48</td>\n",
       "      <td>16.59</td>\n",
       "      <td>-0.812405</td>\n",
       "    </tr>\n",
       "    <tr>\n",
       "      <th>103</th>\n",
       "      <td>P1</td>\n",
       "      <td>ascending stairs</td>\n",
       "      <td>-0.8242</td>\n",
       "      <td>0.177998</td>\n",
       "      <td>-1.27</td>\n",
       "      <td>-0.53</td>\n",
       "      <td>-0.770</td>\n",
       "      <td>-0.735353</td>\n",
       "      <td>-0.5869</td>\n",
       "      <td>0.282277</td>\n",
       "      <td>...</td>\n",
       "      <td>-159.6</td>\n",
       "      <td>69.79</td>\n",
       "      <td>-44.695</td>\n",
       "      <td>-0.368161</td>\n",
       "      <td>0.8106</td>\n",
       "      <td>39.170303</td>\n",
       "      <td>-102.06</td>\n",
       "      <td>53.48</td>\n",
       "      <td>16.59</td>\n",
       "      <td>-0.850316</td>\n",
       "    </tr>\n",
       "  </tbody>\n",
       "</table>\n",
       "<p>5 rows × 38 columns</p>\n",
       "</div>"
      ],
      "text/plain": [
       "    participant             label  accel_x_mean  accel_x_std  accel_x_min  \\\n",
       "99           P1  ascending stairs       -0.8253     0.177869        -1.27   \n",
       "100          P1  ascending stairs       -0.8254     0.177846        -1.27   \n",
       "101          P1  ascending stairs       -0.8251     0.177880        -1.27   \n",
       "102          P1  ascending stairs       -0.8249     0.177920        -1.27   \n",
       "103          P1  ascending stairs       -0.8242     0.177998        -1.27   \n",
       "\n",
       "     accel_x_max  accel_x_median  accel_x_skew  accel_y_mean  accel_y_std  \\\n",
       "99         -0.53          -0.775     -0.718442       -0.5937     0.283623   \n",
       "100        -0.53          -0.780     -0.717088       -0.5904     0.282056   \n",
       "101        -0.53          -0.780     -0.721753       -0.5888     0.281939   \n",
       "102        -0.53          -0.775     -0.724572       -0.5875     0.282047   \n",
       "103        -0.53          -0.770     -0.735353       -0.5869     0.282277   \n",
       "\n",
       "     ...  gyr_y_min  gyr_y_max  gyr_y_median  gyr_y_skew  gyr_z_mean  \\\n",
       "99   ...     -159.6      69.79       -43.715   -0.399055     -1.7871   \n",
       "100  ...     -159.6      69.79       -44.275   -0.369833     -1.2355   \n",
       "101  ...     -159.6      69.79       -44.695   -0.356676     -0.6027   \n",
       "102  ...     -159.6      69.79       -44.695   -0.363526      0.1239   \n",
       "103  ...     -159.6      69.79       -44.695   -0.368161      0.8106   \n",
       "\n",
       "     gyr_z_std  gyr_z_min  gyr_z_max  gyr_z_median  gyr_z_skew  \n",
       "99   40.846795    -102.06      53.48         16.59   -0.688015  \n",
       "100  40.650189    -102.06      53.48         16.59   -0.728099  \n",
       "101  40.319882    -102.06      53.48         16.59   -0.771554  \n",
       "102  39.762283    -102.06      53.48         16.59   -0.812405  \n",
       "103  39.170303    -102.06      53.48         16.59   -0.850316  \n",
       "\n",
       "[5 rows x 38 columns]"
      ]
     },
     "execution_count": 9,
     "metadata": {},
     "output_type": "execute_result"
    }
   ],
   "source": [
    "# Define window size for feature extraction\n",
    "window_size = 100 # Corresponds to approximately 1 second of data\n",
    "\n",
    "############### edit code below ############### \n",
    "df_grouped = df.groupby(['participant', 'label']).rolling(window=window_size).agg({\n",
    "    # 'time_ms': ['sum'],\n",
    "    'accel_x': ['mean', 'std', 'min', 'max', 'median', 'skew'],\n",
    "    'accel_y': ['mean', 'std', 'min', 'max', 'median', 'skew'],\n",
    "    'accel_z': ['mean', 'std', 'min', 'max', 'median', 'skew'],\n",
    "    'gyr_x': ['mean', 'std', 'min', 'max', 'median', 'skew'],\n",
    "    'gyr_y': ['mean', 'std', 'min', 'max', 'median', 'skew'],\n",
    "    'gyr_z': ['mean', 'std', 'min', 'max', 'median', 'skew']\n",
    "}).reset_index().dropna()\n",
    "\n",
    "# flatten column names so there are is no column levels\n",
    "df_grouped.columns = ['_'.join(col).strip() for col in df_grouped.columns.values]\n",
    "\n",
    "# clean up columns\n",
    "df_grouped.rename(columns={'participant_': 'participant', 'label_': 'label'}, inplace=True)\n",
    "df_grouped.drop(columns=['level_2_'], inplace=True)\n",
    "\n",
    "# # optional - save the database to avoid re-running the above code\n",
    "# df_group_file_path = f'project2_class_dataset_grouped_w{window_size}.csv'\n",
    "# df_grouped.to_csv(df_group_file_path, index=False)\n",
    "\n",
    "# then read the csv file\n",
    "# df_grouped = pd.read_csv(df_group_file_path)\n",
    "\n",
    "df_grouped.head()"
   ]
  },
  {
   "cell_type": "markdown",
   "metadata": {
    "id": "2qgP3R5sXV5l"
   },
   "source": [
    "## Setp 3. Feature Selection\n",
    "\n",
    "Here we will find the *best* features to use in our model. This can be done by using a variety of techniques, including *forward selection*, *backward selection*, *L1 regularization*, or *Random Forest Importance*. See [feature selection in Python](https://scikit-learn.org/stable/modules/feature_selection.html) for more information.\n",
    "\n",
    "We provide two methods for features selection, *Univariate Feature Selection* and *Recursive Feature Elimination (RFE)*."
   ]
  },
  {
   "cell_type": "code",
   "execution_count": 11,
   "metadata": {
    "executionInfo": {
     "elapsed": 2,
     "status": "ok",
     "timestamp": 1715275473290,
     "user": {
      "displayName": "Blaine Rothrock",
      "userId": "10464371108573119789"
     },
     "user_tz": 240
    },
    "id": "wUFIQSFAXV5l"
   },
   "outputs": [],
   "source": [
    "X = df_grouped.drop(columns=['participant', 'label']) # all columns except grouped columns\n",
    "y = df_grouped['label']"
   ]
  },
  {
   "cell_type": "markdown",
   "metadata": {
    "id": "NcsWy20qXV5l"
   },
   "source": [
    "### 3.1 Univariate Feature Selection\n",
    "\n",
    "### <span style=\"color:red\">Task 3.1</span>\n",
    "<span style=\"color:red\">Explain the process of univariate feature selection (~1 paragraph, what is the purpose of this method? How does it work?). Which feature have the most importance according to this method?</span>"
   ]
  },
  {
   "cell_type": "code",
   "execution_count": 11,
   "metadata": {
    "colab": {
     "base_uri": "https://localhost:8080/",
     "height": 426
    },
    "executionInfo": {
     "elapsed": 4600,
     "status": "ok",
     "timestamp": 1715275477889,
     "user": {
      "displayName": "Blaine Rothrock",
      "userId": "10464371108573119789"
     },
     "user_tz": 240
    },
    "id": "PJNwyrZTXV5l",
    "outputId": "f1fdf207-04b1-4fcb-8825-1d091220620c"
   },
   "outputs": [
    {
     "data": {
      "text/html": [
       "<div>\n",
       "<style scoped>\n",
       "    .dataframe tbody tr th:only-of-type {\n",
       "        vertical-align: middle;\n",
       "    }\n",
       "\n",
       "    .dataframe tbody tr th {\n",
       "        vertical-align: top;\n",
       "    }\n",
       "\n",
       "    .dataframe thead th {\n",
       "        text-align: right;\n",
       "    }\n",
       "</style>\n",
       "<table border=\"1\" class=\"dataframe\">\n",
       "  <thead>\n",
       "    <tr style=\"text-align: right;\">\n",
       "      <th></th>\n",
       "      <th>feature</th>\n",
       "      <th>f_score</th>\n",
       "    </tr>\n",
       "  </thead>\n",
       "  <tbody>\n",
       "    <tr>\n",
       "      <th>1</th>\n",
       "      <td>accel_x_std</td>\n",
       "      <td>414149.491084</td>\n",
       "    </tr>\n",
       "    <tr>\n",
       "      <th>7</th>\n",
       "      <td>accel_y_std</td>\n",
       "      <td>274139.330284</td>\n",
       "    </tr>\n",
       "    <tr>\n",
       "      <th>13</th>\n",
       "      <td>accel_z_std</td>\n",
       "      <td>266514.200351</td>\n",
       "    </tr>\n",
       "    <tr>\n",
       "      <th>25</th>\n",
       "      <td>gyr_y_std</td>\n",
       "      <td>260368.015552</td>\n",
       "    </tr>\n",
       "    <tr>\n",
       "      <th>31</th>\n",
       "      <td>gyr_z_std</td>\n",
       "      <td>251370.765099</td>\n",
       "    </tr>\n",
       "    <tr>\n",
       "      <th>19</th>\n",
       "      <td>gyr_x_std</td>\n",
       "      <td>222869.245764</td>\n",
       "    </tr>\n",
       "    <tr>\n",
       "      <th>14</th>\n",
       "      <td>accel_z_min</td>\n",
       "      <td>175595.507974</td>\n",
       "    </tr>\n",
       "    <tr>\n",
       "      <th>26</th>\n",
       "      <td>gyr_y_min</td>\n",
       "      <td>174357.306896</td>\n",
       "    </tr>\n",
       "    <tr>\n",
       "      <th>33</th>\n",
       "      <td>gyr_z_max</td>\n",
       "      <td>171594.878481</td>\n",
       "    </tr>\n",
       "    <tr>\n",
       "      <th>27</th>\n",
       "      <td>gyr_y_max</td>\n",
       "      <td>165867.704992</td>\n",
       "    </tr>\n",
       "    <tr>\n",
       "      <th>32</th>\n",
       "      <td>gyr_z_min</td>\n",
       "      <td>155522.473602</td>\n",
       "    </tr>\n",
       "    <tr>\n",
       "      <th>21</th>\n",
       "      <td>gyr_x_max</td>\n",
       "      <td>144720.122812</td>\n",
       "    </tr>\n",
       "    <tr>\n",
       "      <th>20</th>\n",
       "      <td>gyr_x_min</td>\n",
       "      <td>140336.603022</td>\n",
       "    </tr>\n",
       "    <tr>\n",
       "      <th>2</th>\n",
       "      <td>accel_x_min</td>\n",
       "      <td>120819.120747</td>\n",
       "    </tr>\n",
       "    <tr>\n",
       "      <th>8</th>\n",
       "      <td>accel_y_min</td>\n",
       "      <td>101351.416444</td>\n",
       "    </tr>\n",
       "  </tbody>\n",
       "</table>\n",
       "</div>"
      ],
      "text/plain": [
       "        feature        f_score\n",
       "1   accel_x_std  414149.491084\n",
       "7   accel_y_std  274139.330284\n",
       "13  accel_z_std  266514.200351\n",
       "25    gyr_y_std  260368.015552\n",
       "31    gyr_z_std  251370.765099\n",
       "19    gyr_x_std  222869.245764\n",
       "14  accel_z_min  175595.507974\n",
       "26    gyr_y_min  174357.306896\n",
       "33    gyr_z_max  171594.878481\n",
       "27    gyr_y_max  165867.704992\n",
       "32    gyr_z_min  155522.473602\n",
       "21    gyr_x_max  144720.122812\n",
       "20    gyr_x_min  140336.603022\n",
       "2   accel_x_min  120819.120747\n",
       "8   accel_y_min  101351.416444"
      ]
     },
     "execution_count": 11,
     "metadata": {},
     "output_type": "execute_result"
    }
   ],
   "source": [
    "from sklearn.feature_selection import SelectKBest, f_classif\n",
    "\n",
    "# Perform univariate feature selection\n",
    "k = X.columns.size # select all features\n",
    "selector = SelectKBest(f_classif, k=k)\n",
    "X_new = selector.fit_transform(X, y)\n",
    "\n",
    "features_selected = selector.get_support(indices=True)\n",
    "selected_feature_names = X.columns[features_selected]\n",
    "\n",
    "# print names and f_scores of selected features\n",
    "selected_features = pd.DataFrame({'feature': selected_feature_names, 'f_score': selector.scores_[features_selected]})\n",
    "selected_features = selected_features.sort_values(by='f_score', ascending=False)\n",
    "selected_features.head(15)"
   ]
  },
  {
   "cell_type": "markdown",
   "metadata": {},
   "source": [
    "### Task 3.1 Answer\n",
    "\n",
    "Univariate feature selection is a statistical method used to evaluate each feature independently to determine its individual relationship with the target variable. The code above leverages SelectKBest with the ANOVA F-test (f_classif) to compute an F-score for every feature in the dataset, ranking them by their statistical significance. Essentially, the method tests each feature to see how well it distinguishes between different classes, with higher scores indicating a stronger discriminatory power. In this case, after fitting the selector on the features X and target y, the features are sorted by their F-scores, and the output shows that accel_x_std has the highest F-score (414149.491084), indicating that it is the most important feature according to this univariate selection approach."
   ]
  },
  {
   "cell_type": "markdown",
   "metadata": {
    "id": "tLT806NOXV5l"
   },
   "source": [
    "### 3.2 Recursive Feature Elimination (RFE)\n",
    "\n",
    "Here we use the method of RFE to select the best features. Different from the univariate feature selection, RFE selects features by recursively considering smaller and smaller sets of features. We choose how we evaluate the importance of a feature by setting the parameter `estimator`. In this case, we use a `RandomForestClassifier` to evaluate the importance of a feature.\n",
    "\n",
    "**Note**: this will take some time to run. (ex: 5.5mins on M2 Macbook Pro)\n",
    "\n",
    "### <span style=\"color:red\">Task 3.2</span>\n",
    "<span style=\"color:red\">Explain the process of recursive feature elimination (~1 paragraph, what is the purpose of this method? How does it work?). Which feature have the most importance according to this method?</span>"
   ]
  },
  {
   "cell_type": "code",
   "execution_count": 12,
   "metadata": {
    "colab": {
     "background_save": true
    },
    "id": "T8J1Az05XV5m"
   },
   "outputs": [
    {
     "name": "stdout",
     "output_type": "stream",
     "text": [
      "Features selected by RFE: Index(['accel_x_std', 'accel_y_std', 'accel_z_mean', 'accel_z_median'], dtype='object')\n"
     ]
    }
   ],
   "source": [
    "from sklearn.feature_selection import RFE\n",
    "from sklearn.ensemble import RandomForestClassifier\n",
    "\n",
    "model = RandomForestClassifier(\n",
    "    n_estimators=5, # the number of trees in the forest\n",
    "    random_state=42, # for reproducibility\n",
    "    max_depth=5 # the maximum depth of the tree\n",
    ")\n",
    "rfe = RFE(estimator=model, n_features_to_select=4, step=1)\n",
    "\n",
    "X_rfe = rfe.fit_transform(X, y)\n",
    "\n",
    "selected_features_rfe = X.columns[rfe.support_]\n",
    "\n",
    "print(\"Features selected by RFE:\", selected_features_rfe)"
   ]
  },
  {
   "cell_type": "markdown",
   "metadata": {},
   "source": [
    "### Task 3.2 Answer\n",
    "\n",
    "Recursive Feature Elimination (RFE) is a backward selection technique used to identify the most relevant features by recursively fitting a model—in this case, a RandomForestClassifier—and eliminating the least important features at each step until the desired number of features remains. The process works by initially training the model on all features, ranking them based on their importance (as determined by the estimator), and then progressively removing the weakest feature one at a time(depending on the step parameter) before retraining the model. This iterative pruning helps in reducing the dimensionality of the dataset while retaining only those features that contribute most to the predictive power of the model. According to the provided code and its output, RFE selected the features `accel_x_std`, `accel_y_std`, `accel_z_mean`, and `accel_z_median`, with `accel_x_std` being the most important feature as it is typically ranked highest by the underlying estimator."
   ]
  },
  {
   "cell_type": "markdown",
   "metadata": {
    "id": "vwnYjqjSXV5m"
   },
   "source": [
    "### <span style=\"color:red\">Task 3.3: Additional Feature Selection Method</span>\n",
    "\n",
    "<span style=\"color:red\">Please implement an additional feature selection method of your choice. You can use any feature selection method from the [scikit-learn library](https://scikit-learn.org/stable/modules/feature_selection.html), or any others. In your report, writing a short description of the method and the results, similar to above but include **why** you selected this method.</span>"
   ]
  },
  {
   "cell_type": "code",
   "execution_count": null,
   "metadata": {
    "colab": {
     "background_save": true
    },
    "id": "dkqY1mBXXV5m"
   },
   "outputs": [],
   "source": [
    "## implement additional feature selection method here ...\n",
    "from sklearn.linear_model import LogisticRegression\n",
    "from sklearn.feature_selection import SelectFromModel\n",
    "\n",
    "# Initialize Logistic Regression with L1 penalty\n",
    "model = LogisticRegression(penalty='l1', solver='saga', random_state=42, max_iter=10000, n_jobs=-1)\n",
    "# Use SelectFromModel to automatically select features with non-zero coefficients\n",
    "selector = SelectFromModel(model)\n",
    "selector.fit_transform(X, y)\n",
    "\n",
    "# Retrieve and print the selected feature names\n",
    "selected_features_l1 = X.columns[selector.get_support()]\n",
    "print(\"Features selected by SelectFromModel (L1):\", selected_features_l1)\n"
   ]
  },
  {
   "cell_type": "markdown",
   "metadata": {
    "id": "pE55CgtZXV5m"
   },
   "source": [
    "### Task 3.4: Feature Selection\n",
    "\n",
    "Choose the best features from the methods above and create a new dataframe with only those features. In your report, note which features you selected, and why."
   ]
  },
  {
   "cell_type": "code",
   "execution_count": 14,
   "metadata": {
    "colab": {
     "background_save": true
    },
    "id": "lfhhQ82OXV5m"
   },
   "outputs": [
    {
     "data": {
      "text/html": [
       "<div>\n",
       "<style scoped>\n",
       "    .dataframe tbody tr th:only-of-type {\n",
       "        vertical-align: middle;\n",
       "    }\n",
       "\n",
       "    .dataframe tbody tr th {\n",
       "        vertical-align: top;\n",
       "    }\n",
       "\n",
       "    .dataframe thead th {\n",
       "        text-align: right;\n",
       "    }\n",
       "</style>\n",
       "<table border=\"1\" class=\"dataframe\">\n",
       "  <thead>\n",
       "    <tr style=\"text-align: right;\">\n",
       "      <th></th>\n",
       "      <th>participant</th>\n",
       "      <th>label</th>\n",
       "      <th>accel_x_std</th>\n",
       "      <th>accel_y_std</th>\n",
       "      <th>accel_z_std</th>\n",
       "      <th>gyr_x_std</th>\n",
       "      <th>gyr_y_std</th>\n",
       "      <th>gyr_z_std</th>\n",
       "    </tr>\n",
       "  </thead>\n",
       "  <tbody>\n",
       "    <tr>\n",
       "      <th>99</th>\n",
       "      <td>P1</td>\n",
       "      <td>ascending stairs</td>\n",
       "      <td>0.177869</td>\n",
       "      <td>0.283623</td>\n",
       "      <td>0.234394</td>\n",
       "      <td>95.786530</td>\n",
       "      <td>41.125919</td>\n",
       "      <td>40.846795</td>\n",
       "    </tr>\n",
       "    <tr>\n",
       "      <th>100</th>\n",
       "      <td>P1</td>\n",
       "      <td>ascending stairs</td>\n",
       "      <td>0.177846</td>\n",
       "      <td>0.282056</td>\n",
       "      <td>0.233043</td>\n",
       "      <td>93.403866</td>\n",
       "      <td>41.128009</td>\n",
       "      <td>40.650189</td>\n",
       "    </tr>\n",
       "    <tr>\n",
       "      <th>101</th>\n",
       "      <td>P1</td>\n",
       "      <td>ascending stairs</td>\n",
       "      <td>0.177880</td>\n",
       "      <td>0.281939</td>\n",
       "      <td>0.231738</td>\n",
       "      <td>90.788858</td>\n",
       "      <td>41.195001</td>\n",
       "      <td>40.319882</td>\n",
       "    </tr>\n",
       "    <tr>\n",
       "      <th>102</th>\n",
       "      <td>P1</td>\n",
       "      <td>ascending stairs</td>\n",
       "      <td>0.177920</td>\n",
       "      <td>0.282047</td>\n",
       "      <td>0.229859</td>\n",
       "      <td>87.643445</td>\n",
       "      <td>41.065231</td>\n",
       "      <td>39.762283</td>\n",
       "    </tr>\n",
       "    <tr>\n",
       "      <th>103</th>\n",
       "      <td>P1</td>\n",
       "      <td>ascending stairs</td>\n",
       "      <td>0.177998</td>\n",
       "      <td>0.282277</td>\n",
       "      <td>0.229644</td>\n",
       "      <td>84.653801</td>\n",
       "      <td>40.958809</td>\n",
       "      <td>39.170303</td>\n",
       "    </tr>\n",
       "  </tbody>\n",
       "</table>\n",
       "</div>"
      ],
      "text/plain": [
       "    participant             label  accel_x_std  accel_y_std  accel_z_std  \\\n",
       "99           P1  ascending stairs     0.177869     0.283623     0.234394   \n",
       "100          P1  ascending stairs     0.177846     0.282056     0.233043   \n",
       "101          P1  ascending stairs     0.177880     0.281939     0.231738   \n",
       "102          P1  ascending stairs     0.177920     0.282047     0.229859   \n",
       "103          P1  ascending stairs     0.177998     0.282277     0.229644   \n",
       "\n",
       "     gyr_x_std  gyr_y_std  gyr_z_std  \n",
       "99   95.786530  41.125919  40.846795  \n",
       "100  93.403866  41.128009  40.650189  \n",
       "101  90.788858  41.195001  40.319882  \n",
       "102  87.643445  41.065231  39.762283  \n",
       "103  84.653801  40.958809  39.170303  "
      ]
     },
     "execution_count": 14,
     "metadata": {},
     "output_type": "execute_result"
    }
   ],
   "source": [
    "# example features, you should choose your own.\n",
    "selected_features = ['accel_x_std', 'accel_y_std', 'accel_z_std', 'gyr_x_std', 'gyr_y_std', 'gyr_z_std']\n",
    "df_selected_features = df_grouped[['participant', 'label'] + selected_features]\n",
    "\n",
    "df_selected_features.head()"
   ]
  },
  {
   "cell_type": "markdown",
   "metadata": {
    "id": "43AEcCsbXV5m"
   },
   "source": [
    "## Setp 4. Model Training & Selection"
   ]
  },
  {
   "cell_type": "markdown",
   "metadata": {
    "id": "JU_coIVeXV5m"
   },
   "source": [
    "### 4.1 Train/Test Split by Percentage\n",
    "\n",
    "We divide our dataset into a training set and a test set. We will train the model on the training set and evaluate the model on the test set. We split with a percentage, where we use a randomly distribution of the percentage of the data for the training and testing - 33%."
   ]
  },
  {
   "cell_type": "code",
   "execution_count": null,
   "metadata": {
    "colab": {
     "background_save": true
    },
    "id": "Gu2A7R_yXV5m"
   },
   "outputs": [],
   "source": [
    "from sklearn.model_selection import train_test_split\n",
    "\n",
    "test_size = 0.33 # percentage of data for testing\n",
    "\n",
    "X = df_selected_features[selected_features]\n",
    "Y = df_selected_features['label']\n",
    "\n",
    "# Split the dataset into training and testing sets\n",
    "X_train, X_test, y_train, y_test = train_test_split(X, Y, test_size=0.2, random_state=42)"
   ]
  },
  {
   "cell_type": "markdown",
   "metadata": {
    "id": "BE7Xe-u2XV5m"
   },
   "source": [
    "### 4.2 Model Training\n",
    "\n",
    "Here we will train a series of models and evaluate them. We have provided two models: `Decision Tree Classifier`, and `GradientBoostingClassifier`.\n",
    "\n",
    "### <span style=\"color:red\">Task 4.2</span>\n",
    "<span style=\"color:red\">Please train 4 additional classifiers model. For each, including the ones we include a brief description (~1 paragraph). For the models you choose, explain why you chose it. Please limit you selection to machine learning models, we will try out deep learning models in the next project. You are free to use any models from the [scikit-learn library](https://scikit-learn.org/stable/supervised_learning.html#supervised-learning), you may also use other as long as they are not deep learning models (e.g., multi-layer neural networks).</span>"
   ]
  },
  {
   "cell_type": "code",
   "execution_count": null,
   "metadata": {
    "colab": {
     "background_save": true
    },
    "id": "0tGb2XnUXV5m"
   },
   "outputs": [],
   "source": [
    "from sklearn.tree import DecisionTreeClassifier\n",
    "from sklearn.ensemble import GradientBoostingClassifier\n",
    "\n",
    "# Train multiple models and compare performance\n",
    "############### edit code below ############### \n",
    "models = []\n",
    "models.append(DecisionTreeClassifier(random_state=0, max_depth=5))\n",
    "models.append(GradientBoostingClassifier())"
   ]
  },
  {
   "cell_type": "code",
   "execution_count": null,
   "metadata": {
    "colab": {
     "background_save": true
    },
    "id": "NRA1qSqZXV5m"
   },
   "outputs": [],
   "source": [
    "results = []\n",
    "\n",
    "############### edit code below ############### \n",
    "for model in models:\n",
    "    print('training: ', model.__class__.__name__)\n",
    "    model.fit(X_train, y_train)\n",
    "    y_pred = model.predict(X_test)\n",
    "    accuracy = sklearn.metrics.accuracy_score(y_test, y_pred)\n",
    "    print(' - accuracy: ', accuracy)\n",
    "    results.append(\n",
    "        {\n",
    "            'name': model.__class__.__name__,\n",
    "            'accuracy': sklearn.metrics.accuracy_score(y_test, y_pred),\n",
    "            'confusion_matrix': sklearn.metrics.confusion_matrix(y_test, y_pred),\n",
    "            'classification_report': sklearn.metrics.classification_report(y_test, y_pred)\n",
    "        }\n",
    "    )"
   ]
  },
  {
   "cell_type": "markdown",
   "metadata": {
    "id": "i2AWSe2OXV5m"
   },
   "source": [
    "### <span style=\"color:red\">Task 4.3: Model Reporting</span>\n",
    "<span style=\"color:red\">Report the results of each model, which one performed the best? Please print the model results below, but include a short write-up in your report.</span>"
   ]
  },
  {
   "cell_type": "code",
   "execution_count": null,
   "metadata": {
    "id": "zktFqKw1XV5n"
   },
   "outputs": [],
   "source": [
    "# model results\n",
    "# ..."
   ]
  },
  {
   "cell_type": "markdown",
   "metadata": {
    "id": "3YPlS9eCXV5n"
   },
   "source": [
    "## 5. LOSO (Leave-One-Subject-Out) Experiment\n"
   ]
  },
  {
   "cell_type": "markdown",
   "metadata": {
    "id": "NjWPYEuIXV5n"
   },
   "source": [
    "We have XX participants in our dataset. In this experiment we will train our best model above, but instead of randomly splitting the data, we will use a Leave-One-Subject-Out (LOSO) method. This means we will train on all participants except one, and then evaluate the model on the left out participant. We will repeat this process for all participants and then average the results. We will then compare the results with the previous model evaluation."
   ]
  },
  {
   "cell_type": "markdown",
   "metadata": {
    "id": "hXFitrN8XV5n"
   },
   "source": [
    "### <span style=\"color:red\">Task 5.1: LOSO</span>\n",
    "<span style=\"color:red\">Create the variables `X_test`, `y_test`, `X_train`, `y_train` for the LOSO experiment.</span>"
   ]
  },
  {
   "cell_type": "code",
   "execution_count": null,
   "metadata": {
    "id": "dxvX17LFXV5n"
   },
   "outputs": [],
   "source": [
    "import random\n",
    "\n",
    "num_participants = df_selected_features['participant'].unique().size\n",
    "test_participant = df_selected_features['participant'].unique()[random.randint(0, num_participants)]\n",
    "\n",
    "# implement code here to create X_train, y_train, X_test, y_test for LOSO\n",
    "# ..."
   ]
  },
  {
   "cell_type": "markdown",
   "metadata": {
    "id": "P2_GoqR5XV5n"
   },
   "source": [
    "### <span style=\"color:red\">Task 5.2: Train Model w/ LOSO</span>\n",
    "<span style=\"color:red\">Train the best model with the LOSO method. report the results, and compare with the previous model evaluation. Write a short explanation of your observations. Why do you think it perform better or worse?\n",
    "</span>"
   ]
  },
  {
   "cell_type": "code",
   "execution_count": null,
   "metadata": {
    "id": "sGDM9-hGXV5n"
   },
   "outputs": [],
   "source": [
    "# train and report results\n",
    "# ..."
   ]
  },
  {
   "cell_type": "markdown",
   "metadata": {
    "id": "HvVdjxBJXV5n"
   },
   "source": [
    "### <span style=\"color:red\">Task 5.3 Cross Validation</span>\n",
    "<span style=\"color:red\">In the interest of time, we will not implement cross-validation. But please include a short explanation of how you would implement cross-validation, and why it is important. (~1 paragraph)</span>"
   ]
  },
  {
   "cell_type": "markdown",
   "metadata": {
    "id": "GAf1fyO5XV5n"
   },
   "source": [
    "## 6. Port Model\n",
    "\n",
    "We will now port the model to C, for use in Arduino. Please include the C file in your submission, but we will not run it on the embedded device for this assignment. In the next assignment, we will run the model on the Arduino."
   ]
  },
  {
   "cell_type": "markdown",
   "metadata": {
    "id": "CrKF1HwWXV5n"
   },
   "source": [
    "### 6.1 install `micromlgen`\n",
    "\n",
    "[micromlgen](https://github.com/eloquentarduino/micromlgen) is a opensource project which will generate C code from your sklearn models"
   ]
  },
  {
   "cell_type": "code",
   "execution_count": null,
   "metadata": {
    "id": "kRejjKgwXV5n",
    "outputId": "e22fb592-19b8-437e-e56a-b7f23f39de3c"
   },
   "outputs": [],
   "source": [
    "pip install micromlgen"
   ]
  },
  {
   "cell_type": "markdown",
   "metadata": {
    "id": "4F_vnV-SXV5n"
   },
   "source": [
    "### <span style=\"color:red\">Task 6.2: Port Best Model and save</span>"
   ]
  },
  {
   "cell_type": "code",
   "execution_count": null,
   "metadata": {
    "id": "DwpSbvO1XV5n",
    "outputId": "ea947792-ac9e-4d79-cd75-b76eef2aa0e2"
   },
   "outputs": [],
   "source": [
    "from micromlgen import port\n",
    "\n",
    "# Select the best performing model (e.g., Gradient Boosting)\n",
    "c_code = port(models[0])\n",
    "\n",
    "print(c_code)\n",
    "\n",
    "# save/port the model to a directory\n",
    "# ..."
   ]
  },
  {
   "cell_type": "markdown",
   "metadata": {
    "id": "NZ5M3LutXV5s"
   },
   "source": [
    "### <span style=\"color:red\">Task 6.3: Model Review</span>\n",
    "<span style=\"color:red\">Take a look at the C code, what do you notice? Do you think the model will run on our microcontrollers? Why or why not? Please include a brief write-up in your report.</span>"
   ]
  }
 ],
 "metadata": {
  "colab": {
   "name": "",
   "version": ""
  },
  "kernelspec": {
   "display_name": "Python 3",
   "language": "python",
   "name": "python3"
  },
  "language_info": {
   "codemirror_mode": {
    "name": "ipython",
    "version": 3
   },
   "file_extension": ".py",
   "mimetype": "text/x-python",
   "name": "python",
   "nbconvert_exporter": "python",
   "pygments_lexer": "ipython3",
   "version": "3.10.7"
  }
 },
 "nbformat": 4,
 "nbformat_minor": 4
}
